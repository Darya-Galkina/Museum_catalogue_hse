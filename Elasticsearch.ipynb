{
 "cells": [
  {
   "cell_type": "code",
   "execution_count": null,
   "metadata": {},
   "outputs": [
    {
     "name": "stdout",
     "output_type": "stream",
     "text": [
      "Requirement already satisfied: elasticsearch in c:\\users\\dasha\\appdata\\local\\programs\\python\\python312\\lib\\site-packages (8.17.1)\n"
     ]
    },
    {
     "name": "stderr",
     "output_type": "stream",
     "text": [
      "ERROR: Could not find a version that satisfies the requirement csv (from versions: none)\n",
      "ERROR: No matching distribution found for csv\n"
     ]
    }
   ],
   "source": [
    "!pip install elasticsearch "
   ]
  },
  {
   "cell_type": "code",
   "execution_count": 1,
   "metadata": {},
   "outputs": [
    {
     "name": "stdout",
     "output_type": "stream",
     "text": [
      "Connected to Elasticsearch!\n",
      "{'name': 'cd60f5ad2dea', 'cluster_name': 'docker-cluster', 'cluster_uuid': '7KnIqwa9StSGwCmrP_ieQA', 'version': {'number': '7.17.27', 'build_flavor': 'default', 'build_type': 'docker', 'build_hash': '0f88dde84795b30ca0d2c0c4796643ec5938aeb5', 'build_date': '2025-01-09T14:09:01.578835424Z', 'build_snapshot': False, 'lucene_version': '8.11.3', 'minimum_wire_compatibility_version': '6.8.0', 'minimum_index_compatibility_version': '6.0.0-beta1'}, 'tagline': 'You Know, for Search'}\n"
     ]
    },
    {
     "name": "stderr",
     "output_type": "stream",
     "text": [
      "C:\\Users\\Dasha\\AppData\\Local\\Temp\\ipykernel_1880\\3031490529.py:10: ElasticsearchWarning: Elasticsearch built-in security features are not enabled. Without authentication, your cluster could be accessible to anyone. See https://www.elastic.co/guide/en/elasticsearch/reference/7.17/security-minimal-setup.html to enable security.\n",
      "  info = es.info()\n"
     ]
    }
   ],
   "source": [
    "from elasticsearch import Elasticsearch\n",
    "\n",
    "# Подключение к Elasticsearch\n",
    "es = Elasticsearch(\n",
    "    ['http://localhost:9200']  # Замените на URL вашего Elasticsearch, если он не локальный\n",
    ")\n",
    "\n",
    "# Проверка подключения\n",
    "try:\n",
    "    info = es.info()\n",
    "    print(\"Connected to Elasticsearch!\")\n",
    "    print(info) # Выводит информацию о кластере Elasticsearch\n",
    "except Exception as e:\n",
    "    print(f\"Could not connect to Elasticsearch: {e}\")\n",
    "    exit()"
   ]
  },
  {
   "cell_type": "code",
   "execution_count": 6,
   "metadata": {},
   "outputs": [],
   "source": [
    "import csv\n",
    "from elasticsearch import Elasticsearch"
   ]
  },
  {
   "cell_type": "markdown",
   "metadata": {},
   "source": [
    "Запускаем ElasticSearch в докере и указываем порт. Можно сразу указать индекс для подключения, если он уже создан."
   ]
  },
  {
   "cell_type": "code",
   "execution_count": null,
   "metadata": {},
   "outputs": [],
   "source": [
    "es_host = \"http://localhost:9200\" \n",
    "#es_index = \"metadata\"  \n",
    "es = Elasticsearch(hosts=[es_host])\n",
    "es"
   ]
  },
  {
   "cell_type": "markdown",
   "metadata": {},
   "source": [
    "Сделаем анализатор для того, чтобы искать запрос с опечатками. "
   ]
  },
  {
   "cell_type": "code",
   "execution_count": null,
   "metadata": {},
   "outputs": [],
   "source": [
    "analyzer_name = \"ngram_analyzer\"\n",
    "analyzer_definition = {\n",
    "    \"settings\": {\n",
    "        \"analysis\": {\n",
    "            \"analyzer\": {\n",
    "                analyzer_name: {\n",
    "                    \"type\": \"custom\",\n",
    "                    \"tokenizer\": \"ngram_tokenizer\",\n",
    "                    \"filter\": [\n",
    "                        \"lowercase\"]\n",
    "                }\n",
    "            },\n",
    "            \"tokenizer\": {\n",
    "                \"ngram_tokenizer\": {\n",
    "                    \"type\": \"nGram\",  \n",
    "                    \"min_gram\": 4,   \n",
    "                    \"max_gram\": 5    \n",
    "                }\n",
    "            }\n",
    "        }\n",
    "    }\n",
    "}"
   ]
  },
  {
   "cell_type": "code",
   "execution_count": 3,
   "metadata": {},
   "outputs": [
    {
     "name": "stdout",
     "output_type": "stream",
     "text": [
      "Test index created successfully\n"
     ]
    },
    {
     "name": "stderr",
     "output_type": "stream",
     "text": [
      "C:\\Users\\Dasha\\AppData\\Local\\Temp\\ipykernel_1880\\3820382137.py:2: ElasticsearchWarning: Elasticsearch built-in security features are not enabled. Without authentication, your cluster could be accessible to anyone. See https://www.elastic.co/guide/en/elasticsearch/reference/7.17/security-minimal-setup.html to enable security.\n",
      "  es.indices.create(index=\"test_index\")\n"
     ]
    }
   ],
   "source": [
    "try:\n",
    "    es.indices.create(index=\"test_index\")\n",
    "    print(\"Test index created successfully\")\n",
    "except Exception as e:\n",
    "    print(f\"Error creating test index: {e}\")"
   ]
  },
  {
   "cell_type": "markdown",
   "metadata": {},
   "source": [
    "Создаём индекс (коллекцию доков одного формата)."
   ]
  },
  {
   "cell_type": "code",
   "execution_count": 4,
   "metadata": {},
   "outputs": [
    {
     "name": "stderr",
     "output_type": "stream",
     "text": [
      "C:\\Users\\Dasha\\AppData\\Local\\Temp\\ipykernel_1880\\3304962580.py:17: ElasticsearchWarning: The [nGram] tokenizer name is deprecated and will be removed in a future version. Please change the tokenizer name to [ngram] instead.\n",
      "  es.indices.create(index=\"metadata\", settings=analyzer_definition[\"settings\"], mappings=mapit)\n",
      "C:\\Users\\Dasha\\AppData\\Local\\Temp\\ipykernel_1880\\3304962580.py:17: ElasticsearchWarning: Elasticsearch built-in security features are not enabled. Without authentication, your cluster could be accessible to anyone. See https://www.elastic.co/guide/en/elasticsearch/reference/7.17/security-minimal-setup.html to enable security.\n",
      "  es.indices.create(index=\"metadata\", settings=analyzer_definition[\"settings\"], mappings=mapit)\n"
     ]
    },
    {
     "data": {
      "text/plain": [
       "ObjectApiResponse({'acknowledged': True, 'shards_acknowledged': True, 'index': 'metadata'})"
      ]
     },
     "execution_count": 4,
     "metadata": {},
     "output_type": "execute_result"
    }
   ],
   "source": [
    "mapit = {\n",
    "    \"properties\": {\n",
    "        \"object_id\": {\"type\": \"keyword\"},\n",
    "        \"object_name\": {\"type\": \"keyword\"},\n",
    "        \"title\": {\"type\": \"text\",\"analyzer\" : \"ngram_analyzer\"},\n",
    "        \"year\": {\"type\": \"text\",\"analyzer\" : \"russian\"},\n",
    "        \"artist\": {\"type\": \"text\",\"analyzer\" : \"ngram_analyzer\"},\n",
    "        \"artist_birth\": {\"type\": \"keyword\"},\n",
    "        \"artist_death\": {\"type\": \"keyword\"},\n",
    "        \"medium\": {\"type\": \"text\",\"analyzer\" : \"russian\"},\n",
    "        \"wiki_url\": {\"type\": \"keyword\"},\n",
    "        \"resource_url\": {\"type\": \"keyword\"},\n",
    "        \"image_url\": {\"type\": \"keyword\"}\n",
    "    }\n",
    "}\n",
    "\n",
    "es.indices.create(index=\"metadata\", settings=analyzer_definition[\"settings\"], mappings=mapit)"
   ]
  },
  {
   "cell_type": "markdown",
   "metadata": {},
   "source": [
    "Как создали, так и удалим при желании."
   ]
  },
  {
   "cell_type": "code",
   "execution_count": 49,
   "metadata": {},
   "outputs": [
    {
     "name": "stderr",
     "output_type": "stream",
     "text": [
      "C:\\Users\\Dasha\\AppData\\Local\\Temp\\ipykernel_18840\\1706861196.py:1: ElasticsearchWarning: Elasticsearch built-in security features are not enabled. Without authentication, your cluster could be accessible to anyone. See https://www.elastic.co/guide/en/elasticsearch/reference/7.17/security-minimal-setup.html to enable security.\n",
      "  es.indices.delete(index=\"metadata\")\n"
     ]
    },
    {
     "data": {
      "text/plain": [
       "ObjectApiResponse({'acknowledged': True})"
      ]
     },
     "execution_count": 49,
     "metadata": {},
     "output_type": "execute_result"
    }
   ],
   "source": [
    "es.indices.delete(index=\"metadata\")"
   ]
  },
  {
   "cell_type": "markdown",
   "metadata": {},
   "source": [
    "Загружаем документ в индекс (можно ускорить через bulk):"
   ]
  },
  {
   "cell_type": "code",
   "execution_count": 7,
   "metadata": {},
   "outputs": [
    {
     "name": "stderr",
     "output_type": "stream",
     "text": [
      "C:\\Users\\Dasha\\AppData\\Local\\Temp\\ipykernel_1880\\1052995916.py:6: ElasticsearchWarning: Elasticsearch built-in security features are not enabled. Without authentication, your cluster could be accessible to anyone. See https://www.elastic.co/guide/en/elasticsearch/reference/7.17/security-minimal-setup.html to enable security.\n",
      "  es.index(index=\"metadata\", document=row)\n"
     ]
    },
    {
     "name": "stdout",
     "output_type": "stream",
     "text": [
      "CSV file loaded to Elasticsearch.\n"
     ]
    }
   ],
   "source": [
    "def load_csv_to_es(csv_file):\n",
    "  with open(csv_file, 'r', encoding='utf-8') as f:\n",
    "    reader = csv.DictReader(f)\n",
    "    for row in reader:\n",
    "      try:\n",
    "        es.index(index=\"metadata\", document=row)\n",
    "      except Exception as e:\n",
    "        print(f\"Error indexing document: {e}\")\n",
    "\n",
    "if __name__ == \"__main__\":\n",
    "  csv_file = r\"D:\\Desktop\\PUSHKA\\csvs\\metadata_translated.csv\" \n",
    "  load_csv_to_es(csv_file)\n",
    "  print(\"CSV file loaded to Elasticsearch.\")"
   ]
  },
  {
   "cell_type": "markdown",
   "metadata": {},
   "source": [
    "Удалить все документы из индекса:"
   ]
  },
  {
   "cell_type": "code",
   "execution_count": 55,
   "metadata": {},
   "outputs": [
    {
     "name": "stderr",
     "output_type": "stream",
     "text": [
      "C:\\Users\\Dasha\\AppData\\Local\\Temp\\ipykernel_18840\\1136483629.py:1: ElasticsearchWarning: Elasticsearch built-in security features are not enabled. Without authentication, your cluster could be accessible to anyone. See https://www.elastic.co/guide/en/elasticsearch/reference/7.17/security-minimal-setup.html to enable security.\n",
      "  es.delete_by_query(\n"
     ]
    },
    {
     "data": {
      "text/plain": [
       "ObjectApiResponse({'took': 911, 'timed_out': False, 'total': 2114, 'deleted': 2114, 'batches': 3, 'version_conflicts': 0, 'noops': 0, 'retries': {'bulk': 0, 'search': 0}, 'throttled_millis': 0, 'requests_per_second': -1.0, 'throttled_until_millis': 0, 'failures': []})"
      ]
     },
     "execution_count": 55,
     "metadata": {},
     "output_type": "execute_result"
    }
   ],
   "source": [
    "es.delete_by_query(\n",
    "        index=\"metadata\",\n",
    "        query={\"match_all\": {}})"
   ]
  },
  {
   "cell_type": "markdown",
   "metadata": {},
   "source": [
    "Посмотреть все документы:"
   ]
  },
  {
   "cell_type": "code",
   "execution_count": 8,
   "metadata": {},
   "outputs": [
    {
     "name": "stderr",
     "output_type": "stream",
     "text": [
      "C:\\Users\\Dasha\\AppData\\Local\\Temp\\ipykernel_1880\\3491077482.py:1: ElasticsearchWarning: Elasticsearch built-in security features are not enabled. Without authentication, your cluster could be accessible to anyone. See https://www.elastic.co/guide/en/elasticsearch/reference/7.17/security-minimal-setup.html to enable security.\n",
      "  result = es.search(index=\"metadata\", query={\"match_all\": {}})\n"
     ]
    },
    {
     "data": {
      "text/plain": [
       "[{'_index': 'metadata',\n",
       "  '_type': '_doc',\n",
       "  '_id': 'JsGqRZYBSuZOUBRPa1Pp',\n",
       "  '_score': 1.0,\n",
       "  '_source': {'object_id': '7499',\n",
       "   'object_name': 'Painting',\n",
       "   'title': 'Джанет Халлек Дрейк',\n",
       "   'year': '1825',\n",
       "   'artist': 'Инман, Генри',\n",
       "   'artist_birth': '1801',\n",
       "   'artist_death': '1846',\n",
       "   'medium': 'Холст, масло',\n",
       "   'wiki_url': 'https://www.wikidata.org/wiki/Q20174119',\n",
       "   'resource_url': 'http://www.metmuseum.org/art/collection/search/7499',\n",
       "   'image_url': 'https://images.metmuseum.org/CRDImages/ad/original/ap1996.348.jpg'}},\n",
       " {'_index': 'metadata',\n",
       "  '_type': '_doc',\n",
       "  '_id': 'J8GqRZYBSuZOUBRPbFNS',\n",
       "  '_score': 1.0,\n",
       "  '_source': {'object_id': '10028',\n",
       "   'object_name': 'Painting',\n",
       "   'title': 'Оранжевая ветвь',\n",
       "   'year': '1883',\n",
       "   'artist': 'Ла Фардж, Джон',\n",
       "   'artist_birth': '1835',\n",
       "   'artist_death': '1910',\n",
       "   'medium': 'Холст, масло',\n",
       "   'wiki_url': 'https://www.wikidata.org/wiki/Q19924754',\n",
       "   'resource_url': 'http://www.metmuseum.org/art/collection/search/10028',\n",
       "   'image_url': 'https://images.metmuseum.org/CRDImages/ad/original/ap66.73.jpg'}},\n",
       " {'_index': 'metadata',\n",
       "  '_type': '_doc',\n",
       "  '_id': 'KMGqRZYBSuZOUBRPbFOl',\n",
       "  '_score': 1.0,\n",
       "  '_source': {'object_id': '10035',\n",
       "   'object_name': 'Painting',\n",
       "   'title': 'Пастбище вечером',\n",
       "   'year': '1931',\n",
       "   'artist': 'Райдер, Альберт Пинкхем',\n",
       "   'artist_birth': '1847',\n",
       "   'artist_death': '1917',\n",
       "   'medium': 'Холст, масло',\n",
       "   'wiki_url': 'https://www.wikidata.org/wiki/Q19924060',\n",
       "   'resource_url': 'http://www.metmuseum.org/art/collection/search/10035',\n",
       "   'image_url': 'https://images.metmuseum.org/CRDImages/ad/original/ap67.187.138.jpg'}},\n",
       " {'_index': 'metadata',\n",
       "  '_type': '_doc',\n",
       "  '_id': 'KcGqRZYBSuZOUBRPbFP6',\n",
       "  '_score': 1.0,\n",
       "  '_source': {'object_id': '10049',\n",
       "   'object_name': 'Painting',\n",
       "   'title': '\"Кинг Лир\", акт I, сцена I',\n",
       "   'year': '1898',\n",
       "   'artist': 'Аббатство, Эдвин Остин',\n",
       "   'artist_birth': '1852',\n",
       "   'artist_death': '1911',\n",
       "   'medium': 'Холст, масло',\n",
       "   'wiki_url': 'https://www.wikidata.org/wiki/Q19925330',\n",
       "   'resource_url': 'http://www.metmuseum.org/art/collection/search/10049',\n",
       "   'image_url': 'https://images.metmuseum.org/CRDImages/ad/original/DP256059.jpg'}},\n",
       " {'_index': 'metadata',\n",
       "  '_type': '_doc',\n",
       "  '_id': 'KsGqRZYBSuZOUBRPbVOQ',\n",
       "  '_score': 1.0,\n",
       "  '_source': {'object_id': '10061',\n",
       "   'object_name': 'Painting',\n",
       "   'title': 'Leete Farm, West Claremont, Нью -Гемпшир',\n",
       "   'year': '1822',\n",
       "   'artist': 'Александр, Фрэнсис',\n",
       "   'artist_birth': '1800',\n",
       "   'artist_death': '1880',\n",
       "   'medium': 'Холст, масло',\n",
       "   'wiki_url': 'https://www.wikidata.org/wiki/Q19925477',\n",
       "   'resource_url': 'http://www.metmuseum.org/art/collection/search/10061',\n",
       "   'image_url': 'https://images.metmuseum.org/CRDImages/ad/original/ap1972.263.5.jpg'}},\n",
       " {'_index': 'metadata',\n",
       "  '_type': '_doc',\n",
       "  '_id': 'K8GqRZYBSuZOUBRPbVPf',\n",
       "  '_score': 1.0,\n",
       "  '_source': {'object_id': '10062',\n",
       "   'object_name': 'Painting',\n",
       "   'title': 'В лаборатории',\n",
       "   'year': '1887',\n",
       "   'artist': 'Александр, Генри',\n",
       "   'artist_birth': '1860',\n",
       "   'artist_death': '1894',\n",
       "   'medium': 'Холст, масло',\n",
       "   'wiki_url': 'https://www.wikidata.org/wiki/Q19923922',\n",
       "   'resource_url': 'http://www.metmuseum.org/art/collection/search/10062',\n",
       "   'image_url': 'https://images.metmuseum.org/CRDImages/ad/original/DT1268.jpg'}},\n",
       " {'_index': 'metadata',\n",
       "  '_type': '_doc',\n",
       "  '_id': 'LMGqRZYBSuZOUBRPblMW',\n",
       "  '_score': 1.0,\n",
       "  '_source': {'object_id': '10065',\n",
       "   'object_name': 'Painting',\n",
       "   'title': 'Изпокачивает',\n",
       "   'year': '1895',\n",
       "   'artist': 'Александр, Джон Уайт',\n",
       "   'artist_birth': '1856',\n",
       "   'artist_death': '1915',\n",
       "   'medium': 'Холст, масло',\n",
       "   'wiki_url': 'https://www.wikidata.org/wiki/Q20175225',\n",
       "   'resource_url': 'http://www.metmuseum.org/art/collection/search/10065',\n",
       "   'image_url': 'https://images.metmuseum.org/CRDImages/ad/original/DT1551.jpg'}},\n",
       " {'_index': 'metadata',\n",
       "  '_type': '_doc',\n",
       "  '_id': 'LcGqRZYBSuZOUBRPblN0',\n",
       "  '_score': 1.0,\n",
       "  '_source': {'object_id': '10066',\n",
       "   'object_name': 'Painting',\n",
       "   'title': 'Кольцо',\n",
       "   'year': '1911',\n",
       "   'artist': 'Александр, Джон Уайт',\n",
       "   'artist_birth': '1856',\n",
       "   'artist_death': '1915',\n",
       "   'medium': 'Холст, масло',\n",
       "   'wiki_url': 'https://www.wikidata.org/wiki/Q20175249',\n",
       "   'resource_url': 'http://www.metmuseum.org/art/collection/search/10066',\n",
       "   'image_url': 'https://images.metmuseum.org/CRDImages/ad/original/DP273005.jpg'}},\n",
       " {'_index': 'metadata',\n",
       "  '_type': '_doc',\n",
       "  '_id': 'LsGqRZYBSuZOUBRPblPM',\n",
       "  '_score': 1.0,\n",
       "  '_source': {'object_id': '10067',\n",
       "   'object_name': 'Painting',\n",
       "   'title': 'Учиться в черном и зеленых',\n",
       "   'year': '1906',\n",
       "   'artist': 'Александр, Джон Уайт',\n",
       "   'artist_birth': '1856',\n",
       "   'artist_death': '1915',\n",
       "   'medium': 'Холст, масло',\n",
       "   'wiki_url': 'https://www.wikidata.org/wiki/Q19924468',\n",
       "   'resource_url': 'http://www.metmuseum.org/art/collection/search/10067',\n",
       "   'image_url': 'https://images.metmuseum.org/CRDImages/ad/original/DP-12213-001.jpg'}},\n",
       " {'_index': 'metadata',\n",
       "  '_type': '_doc',\n",
       "  '_id': 'L8GqRZYBSuZOUBRPb1MZ',\n",
       "  '_score': 1.0,\n",
       "  '_source': {'object_id': '10068',\n",
       "   'object_name': 'Painting',\n",
       "   'title': 'Уолт Уитмен',\n",
       "   'year': '1889',\n",
       "   'artist': 'Александр, Джон Уайт',\n",
       "   'artist_birth': '1856',\n",
       "   'artist_death': '1915',\n",
       "   'medium': 'Холст, масло',\n",
       "   'wiki_url': 'https://www.wikidata.org/wiki/Q20175274',\n",
       "   'resource_url': 'http://www.metmuseum.org/art/collection/search/10068',\n",
       "   'image_url': 'https://images.metmuseum.org/CRDImages/ad/original/ap91.18.jpg'}}]"
      ]
     },
     "execution_count": 8,
     "metadata": {},
     "output_type": "execute_result"
    }
   ],
   "source": [
    "result = es.search(index=\"metadata\", query={\"match_all\": {}})\n",
    "result[\"hits\"][\"hits\"]"
   ]
  },
  {
   "cell_type": "markdown",
   "metadata": {},
   "source": [
    "Поиск по одному полю:\n",
    "\n",
    "NB!!!!! Эластик выдаёт только несколько результатов, а не все."
   ]
  },
  {
   "cell_type": "code",
   "execution_count": 62,
   "metadata": {},
   "outputs": [
    {
     "name": "stderr",
     "output_type": "stream",
     "text": [
      "C:\\Users\\Dasha\\AppData\\Local\\Temp\\ipykernel_18840\\2406601290.py:1: ElasticsearchWarning: Elasticsearch built-in security features are not enabled. Without authentication, your cluster could be accessible to anyone. See https://www.elastic.co/guide/en/elasticsearch/reference/7.17/security-minimal-setup.html to enable security.\n",
      "  res = es.search(index=\"metadata\", query={\"match\": {\"title\": \"халек дар\"}})\n"
     ]
    },
    {
     "data": {
      "text/plain": [
       "[{'_index': 'metadata',\n",
       "  '_type': '_doc',\n",
       "  '_id': 'egug8JQBhbA9o1hPdRwi',\n",
       "  '_score': 47.25762,\n",
       "  '_source': {'object_id': '7499',\n",
       "   'object_name': 'Painting',\n",
       "   'title': 'Джанет Халлек Дрейк',\n",
       "   'year': '1825',\n",
       "   'artist': 'Инман, Генри',\n",
       "   'artist_birth': '1801',\n",
       "   'artist_death': '1846',\n",
       "   'medium': 'Холст, масло',\n",
       "   'wiki_url': 'https://www.wikidata.org/wiki/Q20174119',\n",
       "   'resource_url': 'http://www.metmuseum.org/art/collection/search/7499',\n",
       "   'image_url': 'https://images.metmuseum.org/CRDImages/ad/original/ap1996.348.jpg'}},\n",
       " {'_index': 'metadata',\n",
       "  '_type': '_doc',\n",
       "  '_id': 'qQuh8JQBhbA9o1hPCh4g',\n",
       "  '_score': 25.537903,\n",
       "  '_source': {'object_id': '12792',\n",
       "   'object_name': 'Painting',\n",
       "   'title': 'Джон Дарт',\n",
       "   'year': '1774',\n",
       "   'artist': 'ТУС, Иеремия',\n",
       "   'artist_birth': '1716',\n",
       "   'artist_death': '1774',\n",
       "   'medium': 'Холст, масло',\n",
       "   'wiki_url': 'https://www.wikidata.org/wiki/Q19930539',\n",
       "   'resource_url': 'http://www.metmuseum.org/art/collection/search/12792',\n",
       "   'image_url': 'https://images.metmuseum.org/CRDImages/ad/original/DP-644-01.jpg'}},\n",
       " {'_index': 'metadata',\n",
       "  '_type': '_doc',\n",
       "  '_id': 'qwuh8JQBhbA9o1hPCh7A',\n",
       "  '_score': 22.678104,\n",
       "  '_source': {'object_id': '12794',\n",
       "   'object_name': 'Painting',\n",
       "   'title': 'Миссис Джон Дарт',\n",
       "   'year': '1774',\n",
       "   'artist': 'ТУС, Иеремия',\n",
       "   'artist_birth': '1716',\n",
       "   'artist_death': '1774',\n",
       "   'medium': 'Холст, масло',\n",
       "   'wiki_url': 'https://www.wikidata.org/wiki/Q20171296',\n",
       "   'resource_url': 'http://www.metmuseum.org/art/collection/search/12794',\n",
       "   'image_url': 'https://images.metmuseum.org/CRDImages/ad/original/DP-645-01.jpg'}},\n",
       " {'_index': 'metadata',\n",
       "  '_type': '_doc',\n",
       "  '_id': 'xAug8JQBhbA9o1hP0h3G',\n",
       "  '_score': 19.647694,\n",
       "  '_source': {'object_id': '11240',\n",
       "   'object_name': 'Painting',\n",
       "   'title': 'Александр Андерсон',\n",
       "   'year': '1815',\n",
       "   'artist': 'Джарвис, Джон Уэсли',\n",
       "   'artist_birth': '1780',\n",
       "   'artist_death': '1840',\n",
       "   'medium': 'Холст, масло',\n",
       "   'wiki_url': 'https://www.wikidata.org/wiki/Q19930325',\n",
       "   'resource_url': 'http://www.metmuseum.org/art/collection/search/11240',\n",
       "   'image_url': 'https://images.metmuseum.org/CRDImages/ad/original/ap81.16.jpg'}},\n",
       " {'_index': 'metadata',\n",
       "  '_type': '_doc',\n",
       "  '_id': 'tAuh8JQBhbA9o1hPDR5j',\n",
       "  '_score': 19.347775,\n",
       "  '_source': {'object_id': '12819',\n",
       "   'object_name': 'Painting',\n",
       "   'title': 'Александр Гамильтон',\n",
       "   'year': '1806',\n",
       "   'artist': 'Трамбулл, Джон',\n",
       "   'artist_birth': '1756',\n",
       "   'artist_death': '1843',\n",
       "   'medium': 'Холст, масло',\n",
       "   'wiki_url': 'https://www.wikidata.org/wiki/Q19925369',\n",
       "   'resource_url': 'http://www.metmuseum.org/art/collection/search/12819',\n",
       "   'image_url': 'https://images.metmuseum.org/CRDImages/ad/original/DT222199.jpg'}},\n",
       " {'_index': 'metadata',\n",
       "  '_type': '_doc',\n",
       "  '_id': 'Xwuj8JQBhbA9o1hPcCf5',\n",
       "  '_score': 19.347775,\n",
       "  '_source': {'object_id': '12559',\n",
       "   'object_name': 'Drawing',\n",
       "   'title': 'Александр Гамильтон',\n",
       "   'year': '1796',\n",
       "   'artist': 'Sharples, James | Sharples, Ellen Wallace',\n",
       "   'artist_birth': '1751      |1769',\n",
       "   'artist_death': '1811      |1849',\n",
       "   'medium': 'Пастель на тонированной (теперь окисленной) бумаге с нанесенным рисунком',\n",
       "   'wiki_url': 'https://www.wikidata.org/wiki/Q98224586',\n",
       "   'resource_url': 'http://www.metmuseum.org/art/collection/search/12559',\n",
       "   'image_url': 'https://images.metmuseum.org/CRDImages/ad/original/57709.jpg'}},\n",
       " {'_index': 'metadata',\n",
       "  '_type': '_doc',\n",
       "  '_id': 'Nguj8JQBhbA9o1hPZScm',\n",
       "  '_score': 19.056871,\n",
       "  '_source': {'object_id': '11990',\n",
       "   'object_name': 'Drawing',\n",
       "   'title': 'Александр Райдер (?)',\n",
       "   'year': '1809',\n",
       "   'artist': 'из Сен-Мин, Чарльз Бальтазар Жюльен Феврат',\n",
       "   'artist_birth': '1770',\n",
       "   'artist_death': '1852',\n",
       "   'medium': 'Контурный карандаш, древесный уголь (?) и растушевка белым мелом на белоснежной бумаге, покрытой гуашью',\n",
       "   'wiki_url': 'https://www.wikidata.org/wiki/Q19924564',\n",
       "   'resource_url': 'http://www.metmuseum.org/art/collection/search/11990',\n",
       "   'image_url': 'https://images.metmuseum.org/CRDImages/ad/original/ap83.2.469.jpg'}},\n",
       " {'_index': 'metadata',\n",
       "  '_type': '_doc',\n",
       "  '_id': 'eAug8JQBhbA9o1hPvx3Z',\n",
       "  '_score': 18.366503,\n",
       "  '_source': {'object_id': '11054',\n",
       "   'object_name': 'Painting',\n",
       "   'title': 'Александр Ван Ренсселер',\n",
       "   'year': '1837',\n",
       "   'artist': 'Хили, Джордж П. А.',\n",
       "   'artist_birth': '1813',\n",
       "   'artist_death': '1894',\n",
       "   'medium': 'Холст, масло',\n",
       "   'wiki_url': 'https://www.wikidata.org/wiki/Q20174474',\n",
       "   'resource_url': 'http://www.metmuseum.org/art/collection/search/11054',\n",
       "   'image_url': 'https://images.metmuseum.org/CRDImages/ad/original/ap61.70.jpg'}},\n",
       " {'_index': 'metadata',\n",
       "  '_type': '_doc',\n",
       "  '_id': 'RQuj8JQBhbA9o1hPpijm',\n",
       "  '_score': 18.331963,\n",
       "  '_source': {'object_id': '15354',\n",
       "   'object_name': 'Drawing',\n",
       "   'title': 'Деревья и далекий ландшафт (от Sketchbook VII)',\n",
       "   'year': '1886',\n",
       "   'artist': 'Ричардс, Уильям Трост',\n",
       "   'artist_birth': '1833',\n",
       "   'artist_death': '1905',\n",
       "   'medium': 'Графит на белой тканой бумаге',\n",
       "   'wiki_url': '',\n",
       "   'resource_url': 'http://www.metmuseum.org/art/collection/search/15354',\n",
       "   'image_url': 'https://images.metmuseum.org/CRDImages/ad/original/257766.jpg'}},\n",
       " {'_index': 'metadata',\n",
       "  '_type': '_doc',\n",
       "  '_id': '7Aug8JQBhbA9o1hP3B0g',\n",
       "  '_score': 17.942123,\n",
       "  '_source': {'object_id': '11318',\n",
       "   'object_name': 'Painting',\n",
       "   'title': 'Старая сосна, Дариен, Коннектикут',\n",
       "   'year': '1872',\n",
       "   'artist': 'Кенсетт, Джон Фредерик',\n",
       "   'artist_birth': '1816',\n",
       "   'artist_death': '1872',\n",
       "   'medium': 'Холст, масло',\n",
       "   'wiki_url': 'https://www.wikidata.org/wiki/Q19924120',\n",
       "   'resource_url': 'http://www.metmuseum.org/art/collection/search/11318',\n",
       "   'image_url': 'https://images.metmuseum.org/CRDImages/ad/original/ap74.38.jpg'}}]"
      ]
     },
     "execution_count": 62,
     "metadata": {},
     "output_type": "execute_result"
    }
   ],
   "source": [
    "res = es.search(index=\"metadata\", query={\"match\": {\"title\": \"халек дар\"}})\n",
    "res[\"hits\"][\"hits\"]"
   ]
  },
  {
   "cell_type": "markdown",
   "metadata": {},
   "source": [
    "Поиск по ключу (keyword)"
   ]
  },
  {
   "cell_type": "code",
   "execution_count": 63,
   "metadata": {},
   "outputs": [
    {
     "name": "stderr",
     "output_type": "stream",
     "text": [
      "C:\\Users\\Dasha\\AppData\\Local\\Temp\\ipykernel_18840\\1704171676.py:1: ElasticsearchWarning: Elasticsearch built-in security features are not enabled. Without authentication, your cluster could be accessible to anyone. See https://www.elastic.co/guide/en/elasticsearch/reference/7.17/security-minimal-setup.html to enable security.\n",
      "  res = es.search(index=\"metadata\", query={\"term\": {'object_id': '10068'}})\n"
     ]
    },
    {
     "data": {
      "text/plain": [
       "[{'_index': 'metadata',\n",
       "  '_type': '_doc',\n",
       "  '_id': 'gwug8JQBhbA9o1hPeBy5',\n",
       "  '_score': 7.819556,\n",
       "  '_source': {'object_id': '10068',\n",
       "   'object_name': 'Painting',\n",
       "   'title': 'Уолт Уитмен',\n",
       "   'year': '1889',\n",
       "   'artist': 'Александр, Джон Уайт',\n",
       "   'artist_birth': '1856',\n",
       "   'artist_death': '1915',\n",
       "   'medium': 'Холст, масло',\n",
       "   'wiki_url': 'https://www.wikidata.org/wiki/Q20175274',\n",
       "   'resource_url': 'http://www.metmuseum.org/art/collection/search/10068',\n",
       "   'image_url': 'https://images.metmuseum.org/CRDImages/ad/original/ap91.18.jpg'}}]"
      ]
     },
     "execution_count": 63,
     "metadata": {},
     "output_type": "execute_result"
    }
   ],
   "source": [
    "res = es.search(index=\"metadata\", query={\"term\": {'object_id': '10068'}})\n",
    "res[\"hits\"][\"hits\"]"
   ]
  },
  {
   "cell_type": "markdown",
   "metadata": {},
   "source": [
    "Поиск по текстовым полям. Должно быть хотя бы одно совпадение либо на автора, либо на название для одного и того же запроса."
   ]
  },
  {
   "cell_type": "code",
   "execution_count": 68,
   "metadata": {},
   "outputs": [
    {
     "name": "stderr",
     "output_type": "stream",
     "text": [
      "C:\\Users\\Dasha\\AppData\\Local\\Temp\\ipykernel_18840\\2868264188.py:1: ElasticsearchWarning: Elasticsearch built-in security features are not enabled. Without authentication, your cluster could be accessible to anyone. See https://www.elastic.co/guide/en/elasticsearch/reference/7.17/security-minimal-setup.html to enable security.\n",
      "  res = es.search(index=\"metadata\", query = {\n"
     ]
    },
    {
     "data": {
      "text/plain": [
       "[{'_index': 'metadata',\n",
       "  '_type': '_doc',\n",
       "  '_id': 'JAuh8JQBhbA9o1hPKh8T',\n",
       "  '_score': 76.589,\n",
       "  '_source': {'object_id': '16906',\n",
       "   'object_name': 'Painting',\n",
       "   'title': 'Генри Г. Стеббинс',\n",
       "   'year': '1838',\n",
       "   'artist': 'Инман, Генри',\n",
       "   'artist_birth': '1801',\n",
       "   'artist_death': '1846',\n",
       "   'medium': 'Холст, масло',\n",
       "   'wiki_url': 'https://www.wikidata.org/wiki/Q20171142',\n",
       "   'resource_url': 'http://www.metmuseum.org/art/collection/search/16906',\n",
       "   'image_url': 'https://images.metmuseum.org/CRDImages/ad/original/DT4975.jpg'}},\n",
       " {'_index': 'metadata',\n",
       "  '_type': '_doc',\n",
       "  '_id': 'egug8JQBhbA9o1hPdRwi',\n",
       "  '_score': 63.397263,\n",
       "  '_source': {'object_id': '7499',\n",
       "   'object_name': 'Painting',\n",
       "   'title': 'Джанет Халлек Дрейк',\n",
       "   'year': '1825',\n",
       "   'artist': 'Инман, Генри',\n",
       "   'artist_birth': '1801',\n",
       "   'artist_death': '1846',\n",
       "   'medium': 'Холст, масло',\n",
       "   'wiki_url': 'https://www.wikidata.org/wiki/Q20174119',\n",
       "   'resource_url': 'http://www.metmuseum.org/art/collection/search/7499',\n",
       "   'image_url': 'https://images.metmuseum.org/CRDImages/ad/original/ap1996.348.jpg'}},\n",
       " {'_index': 'metadata',\n",
       "  '_type': '_doc',\n",
       "  '_id': 'Ugug8JQBhbA9o1hPtR3m',\n",
       "  '_score': 49.223316,\n",
       "  '_source': {'object_id': '10905',\n",
       "   'object_name': 'Painting',\n",
       "   'title': 'Генри Клэй',\n",
       "   'year': '1840',\n",
       "   'artist': 'Фрейзер, Оливер',\n",
       "   'artist_birth': '1808',\n",
       "   'artist_death': '1864',\n",
       "   'medium': 'Масло на металле (возможно, оловянном)',\n",
       "   'wiki_url': 'https://www.wikidata.org/wiki/Q20174271',\n",
       "   'resource_url': 'http://www.metmuseum.org/art/collection/search/10905',\n",
       "   'image_url': 'https://images.metmuseum.org/CRDImages/ad/original/ap68.222.23.jpg'}},\n",
       " {'_index': 'metadata',\n",
       "  '_type': '_doc',\n",
       "  '_id': '-Aug8JQBhbA9o1hP3x1r',\n",
       "  '_score': 46.989525,\n",
       "  '_source': {'object_id': '11347',\n",
       "   'object_name': 'Painting',\n",
       "   'title': 'Чарльз Генри Август Картер',\n",
       "   'year': '1845',\n",
       "   'artist': 'Киттелл, Николас Биддл',\n",
       "   'artist_birth': '1822',\n",
       "   'artist_death': '1894',\n",
       "   'medium': 'Холст, масло',\n",
       "   'wiki_url': 'https://www.wikidata.org/wiki/Q20172271',\n",
       "   'resource_url': 'http://www.metmuseum.org/art/collection/search/11347',\n",
       "   'image_url': 'https://images.metmuseum.org/CRDImages/ad/original/ap65.232.1.jpg'}},\n",
       " {'_index': 'metadata',\n",
       "  '_type': '_doc',\n",
       "  '_id': 'GAug8JQBhbA9o1hP6R6F',\n",
       "  '_score': 42.540287,\n",
       "  '_source': {'object_id': '11587',\n",
       "   'object_name': 'Painting',\n",
       "   'title': 'Генри Клэй',\n",
       "   'year': '1843',\n",
       "   'artist': 'Моиз, Теодор Сидни',\n",
       "   'artist_birth': '1808',\n",
       "   'artist_death': '1885',\n",
       "   'medium': 'Холст, масло',\n",
       "   'wiki_url': 'https://www.wikidata.org/wiki/Q19924527',\n",
       "   'resource_url': 'http://www.metmuseum.org/art/collection/search/11587',\n",
       "   'image_url': 'https://images.metmuseum.org/CRDImages/ad/original/DP364319.jpg'}},\n",
       " {'_index': 'metadata',\n",
       "  '_type': '_doc',\n",
       "  '_id': 'hQuh8JQBhbA9o1hPAR5i',\n",
       "  '_score': 42.540287,\n",
       "  '_source': {'object_id': '12666',\n",
       "   'object_name': 'Painting',\n",
       "   'title': 'Генри Райс',\n",
       "   'year': '1815',\n",
       "   'artist': 'Стюарт, Гилберт',\n",
       "   'artist_birth': '1755',\n",
       "   'artist_death': '1828',\n",
       "   'medium': 'Масло по дереву',\n",
       "   'wiki_url': 'https://www.wikidata.org/wiki/Q20173595',\n",
       "   'resource_url': 'http://www.metmuseum.org/art/collection/search/12666',\n",
       "   'image_url': 'https://images.metmuseum.org/CRDImages/ad/original/DP208350.jpg'}},\n",
       " {'_index': 'metadata',\n",
       "  '_type': '_doc',\n",
       "  '_id': 'Awug8JQBhbA9o1hP4x4r',\n",
       "  '_score': 41.85507,\n",
       "  '_source': {'object_id': '11406',\n",
       "   'object_name': 'Painting',\n",
       "   'title': 'Генри Инман',\n",
       "   'year': '1840',\n",
       "   'artist': 'Лазарь, Джейкоб Харт',\n",
       "   'artist_birth': '1822',\n",
       "   'artist_death': '1891',\n",
       "   'medium': 'Холст, масло',\n",
       "   'wiki_url': 'https://www.wikidata.org/wiki/Q20172291',\n",
       "   'resource_url': 'http://www.metmuseum.org/art/collection/search/11406',\n",
       "   'image_url': 'https://images.metmuseum.org/CRDImages/ad/original/ap93.19.1.jpg'}},\n",
       " {'_index': 'metadata',\n",
       "  '_type': '_doc',\n",
       "  '_id': 'XQug8JQBhbA9o1hPuB0O',\n",
       "  '_score': 38.988464,\n",
       "  '_source': {'object_id': '10966',\n",
       "   'object_name': 'Painting',\n",
       "   'title': 'Греческие любители',\n",
       "   'year': '1846',\n",
       "   'artist': 'Грей, Генри Питерс',\n",
       "   'artist_birth': '1819',\n",
       "   'artist_death': '1877',\n",
       "   'medium': 'Холст, масло',\n",
       "   'wiki_url': 'https://www.wikidata.org/wiki/Q19925647',\n",
       "   'resource_url': 'http://www.metmuseum.org/art/collection/search/10966',\n",
       "   'image_url': 'https://images.metmuseum.org/CRDImages/ad/original/ap02.7.2.jpg'}},\n",
       " {'_index': 'metadata',\n",
       "  '_type': '_doc',\n",
       "  '_id': 'Xgug8JQBhbA9o1hPuB0i',\n",
       "  '_score': 38.988464,\n",
       "  '_source': {'object_id': '10967',\n",
       "   'object_name': 'Painting',\n",
       "   'title': 'Гордость деревни',\n",
       "   'year': '1859',\n",
       "   'artist': 'Грей, Генри Питерс',\n",
       "   'artist_birth': '1819',\n",
       "   'artist_death': '1877',\n",
       "   'medium': 'Холст, масло',\n",
       "   'wiki_url': 'https://www.wikidata.org/wiki/Q20174329',\n",
       "   'resource_url': 'http://www.metmuseum.org/art/collection/search/10967',\n",
       "   'image_url': 'https://images.metmuseum.org/CRDImages/ad/original/ap49.166.jpg'}},\n",
       " {'_index': 'metadata',\n",
       "  '_type': '_doc',\n",
       "  '_id': 'Xwug8JQBhbA9o1hPuB04',\n",
       "  '_score': 38.988464,\n",
       "  '_source': {'object_id': '10968',\n",
       "   'object_name': 'Painting',\n",
       "   'title': 'Зарплата войны',\n",
       "   'year': '1848',\n",
       "   'artist': 'Грей, Генри Питерс',\n",
       "   'artist_birth': '1819',\n",
       "   'artist_death': '1877',\n",
       "   'medium': 'Холст, масло',\n",
       "   'wiki_url': 'https://www.wikidata.org/wiki/Q19925504',\n",
       "   'resource_url': 'http://www.metmuseum.org/art/collection/search/10968',\n",
       "   'image_url': 'https://images.metmuseum.org/CRDImages/ad/original/ap73.5.jpg'}}]"
      ]
     },
     "execution_count": 68,
     "metadata": {},
     "output_type": "execute_result"
    }
   ],
   "source": [
    "res = es.search(index=\"metadata\", query = {\n",
    "        \"bool\": {\n",
    "            \"should\": [\n",
    "                {\"match\": {\"title\": \"дрей генри\"}}, \n",
    "                {\"match\": {\"artist\": \"дрей генри\"}}  \n",
    "            ],\n",
    "            \"minimum_should_match\": 1  \n",
    "        }\n",
    "    })\n",
    "res[\"hits\"][\"hits\"]"
   ]
  },
  {
   "cell_type": "markdown",
   "metadata": {},
   "source": [
    "А так мы расставляем приоритеты по поиску:"
   ]
  },
  {
   "cell_type": "code",
   "execution_count": 69,
   "metadata": {},
   "outputs": [
    {
     "name": "stderr",
     "output_type": "stream",
     "text": [
      "C:\\Users\\Dasha\\AppData\\Local\\Temp\\ipykernel_18840\\184625648.py:1: ElasticsearchWarning: Elasticsearch built-in security features are not enabled. Without authentication, your cluster could be accessible to anyone. See https://www.elastic.co/guide/en/elasticsearch/reference/7.17/security-minimal-setup.html to enable security.\n",
      "  res = es.search(index=\"metadata\", query = {\n"
     ]
    },
    {
     "data": {
      "text/plain": [
       "[{'_index': 'metadata',\n",
       "  '_type': '_doc',\n",
       "  '_id': '-Aug8JQBhbA9o1hP3x1r',\n",
       "  '_score': 146.36151,\n",
       "  '_source': {'object_id': '11347',\n",
       "   'object_name': 'Painting',\n",
       "   'title': 'Чарльз Генри Август Картер',\n",
       "   'year': '1845',\n",
       "   'artist': 'Киттелл, Николас Биддл',\n",
       "   'artist_birth': '1822',\n",
       "   'artist_death': '1894',\n",
       "   'medium': 'Холст, масло',\n",
       "   'wiki_url': 'https://www.wikidata.org/wiki/Q20172271',\n",
       "   'resource_url': 'http://www.metmuseum.org/art/collection/search/11347',\n",
       "   'image_url': 'https://images.metmuseum.org/CRDImages/ad/original/ap65.232.1.jpg'}},\n",
       " {'_index': 'metadata',\n",
       "  '_type': '_doc',\n",
       "  '_id': '2guh8JQBhbA9o1hPFB79',\n",
       "  '_score': 128.91733,\n",
       "  '_source': {'object_id': '13094',\n",
       "   'object_name': 'Painting',\n",
       "   'title': 'Генри Ла Турет де Гроот',\n",
       "   'year': '1830',\n",
       "   'artist': 'Уолдо, Сэмюэль Ловетт |',\n",
       "   'artist_birth': '1783      |1792',\n",
       "   'artist_death': '1861      |1874',\n",
       "   'medium': 'Масло по дереву',\n",
       "   'wiki_url': 'https://www.wikidata.org/wiki/Q20171823',\n",
       "   'resource_url': 'http://www.metmuseum.org/art/collection/search/13094',\n",
       "   'image_url': 'https://images.metmuseum.org/CRDImages/ad/original/ap36.114.jpg'}},\n",
       " {'_index': 'metadata',\n",
       "  '_type': '_doc',\n",
       "  '_id': 'bguj8JQBhbA9o1hPdCcm',\n",
       "  '_score': 123.123924,\n",
       "  '_source': {'object_id': '12826',\n",
       "   'object_name': 'Drawing',\n",
       "   'title': 'Майор Генерал Горацио Гейтс',\n",
       "   'year': '1790',\n",
       "   'artist': 'Трамбулл, Джон',\n",
       "   'artist_birth': '1756',\n",
       "   'artist_death': '1843',\n",
       "   'medium': 'Графит на белой тканой бумаге',\n",
       "   'wiki_url': '',\n",
       "   'resource_url': 'http://www.metmuseum.org/art/collection/search/12826',\n",
       "   'image_url': 'https://images.metmuseum.org/CRDImages/ad/original/124861.jpg'}},\n",
       " {'_index': 'metadata',\n",
       "  '_type': '_doc',\n",
       "  '_id': 'hQuh8JQBhbA9o1hPAR5i',\n",
       "  '_score': 120.7545,\n",
       "  '_source': {'object_id': '12666',\n",
       "   'object_name': 'Painting',\n",
       "   'title': 'Генри Райс',\n",
       "   'year': '1815',\n",
       "   'artist': 'Стюарт, Гилберт',\n",
       "   'artist_birth': '1755',\n",
       "   'artist_death': '1828',\n",
       "   'medium': 'Масло по дереву',\n",
       "   'wiki_url': 'https://www.wikidata.org/wiki/Q20173595',\n",
       "   'resource_url': 'http://www.metmuseum.org/art/collection/search/12666',\n",
       "   'image_url': 'https://images.metmuseum.org/CRDImages/ad/original/DP208350.jpg'}},\n",
       " {'_index': 'metadata',\n",
       "  '_type': '_doc',\n",
       "  '_id': 'Ugug8JQBhbA9o1hPtR3m',\n",
       "  '_score': 115.463356,\n",
       "  '_source': {'object_id': '10905',\n",
       "   'object_name': 'Painting',\n",
       "   'title': 'Генри Клэй',\n",
       "   'year': '1840',\n",
       "   'artist': 'Фрейзер, Оливер',\n",
       "   'artist_birth': '1808',\n",
       "   'artist_death': '1864',\n",
       "   'medium': 'Масло на металле (возможно, оловянном)',\n",
       "   'wiki_url': 'https://www.wikidata.org/wiki/Q20174271',\n",
       "   'resource_url': 'http://www.metmuseum.org/art/collection/search/10905',\n",
       "   'image_url': 'https://images.metmuseum.org/CRDImages/ad/original/ap68.222.23.jpg'}},\n",
       " {'_index': 'metadata',\n",
       "  '_type': '_doc',\n",
       "  '_id': 'GAug8JQBhbA9o1hP6R6F',\n",
       "  '_score': 115.463356,\n",
       "  '_source': {'object_id': '11587',\n",
       "   'object_name': 'Painting',\n",
       "   'title': 'Генри Клэй',\n",
       "   'year': '1843',\n",
       "   'artist': 'Моиз, Теодор Сидни',\n",
       "   'artist_birth': '1808',\n",
       "   'artist_death': '1885',\n",
       "   'medium': 'Холст, масло',\n",
       "   'wiki_url': 'https://www.wikidata.org/wiki/Q19924527',\n",
       "   'resource_url': 'http://www.metmuseum.org/art/collection/search/11587',\n",
       "   'image_url': 'https://images.metmuseum.org/CRDImages/ad/original/DP364319.jpg'}},\n",
       " {'_index': 'metadata',\n",
       "  '_type': '_doc',\n",
       "  '_id': 'JAuh8JQBhbA9o1hPKh8T',\n",
       "  '_score': 113.98753,\n",
       "  '_source': {'object_id': '16906',\n",
       "   'object_name': 'Painting',\n",
       "   'title': 'Генри Г. Стеббинс',\n",
       "   'year': '1838',\n",
       "   'artist': 'Инман, Генри',\n",
       "   'artist_birth': '1801',\n",
       "   'artist_death': '1846',\n",
       "   'medium': 'Холст, масло',\n",
       "   'wiki_url': 'https://www.wikidata.org/wiki/Q20171142',\n",
       "   'resource_url': 'http://www.metmuseum.org/art/collection/search/16906',\n",
       "   'image_url': 'https://images.metmuseum.org/CRDImages/ad/original/DT4975.jpg'}},\n",
       " {'_index': 'metadata',\n",
       "  '_type': '_doc',\n",
       "  '_id': 'Awug8JQBhbA9o1hP4x4r',\n",
       "  '_score': 113.60352,\n",
       "  '_source': {'object_id': '11406',\n",
       "   'object_name': 'Painting',\n",
       "   'title': 'Генри Инман',\n",
       "   'year': '1840',\n",
       "   'artist': 'Лазарь, Джейкоб Харт',\n",
       "   'artist_birth': '1822',\n",
       "   'artist_death': '1891',\n",
       "   'medium': 'Холст, масло',\n",
       "   'wiki_url': 'https://www.wikidata.org/wiki/Q20172291',\n",
       "   'resource_url': 'http://www.metmuseum.org/art/collection/search/11406',\n",
       "   'image_url': 'https://images.metmuseum.org/CRDImages/ad/original/ap93.19.1.jpg'}},\n",
       " {'_index': 'metadata',\n",
       "  '_type': '_doc',\n",
       "  '_id': 'XQug8JQBhbA9o1hPuB0O',\n",
       "  '_score': 109.154724,\n",
       "  '_source': {'object_id': '10966',\n",
       "   'object_name': 'Painting',\n",
       "   'title': 'Греческие любители',\n",
       "   'year': '1846',\n",
       "   'artist': 'Грей, Генри Питерс',\n",
       "   'artist_birth': '1819',\n",
       "   'artist_death': '1877',\n",
       "   'medium': 'Холст, масло',\n",
       "   'wiki_url': 'https://www.wikidata.org/wiki/Q19925647',\n",
       "   'resource_url': 'http://www.metmuseum.org/art/collection/search/10966',\n",
       "   'image_url': 'https://images.metmuseum.org/CRDImages/ad/original/ap02.7.2.jpg'}},\n",
       " {'_index': 'metadata',\n",
       "  '_type': '_doc',\n",
       "  '_id': 'Xgug8JQBhbA9o1hPuB0i',\n",
       "  '_score': 109.154724,\n",
       "  '_source': {'object_id': '10967',\n",
       "   'object_name': 'Painting',\n",
       "   'title': 'Гордость деревни',\n",
       "   'year': '1859',\n",
       "   'artist': 'Грей, Генри Питерс',\n",
       "   'artist_birth': '1819',\n",
       "   'artist_death': '1877',\n",
       "   'medium': 'Холст, масло',\n",
       "   'wiki_url': 'https://www.wikidata.org/wiki/Q20174329',\n",
       "   'resource_url': 'http://www.metmuseum.org/art/collection/search/10967',\n",
       "   'image_url': 'https://images.metmuseum.org/CRDImages/ad/original/ap49.166.jpg'}}]"
      ]
     },
     "execution_count": 69,
     "metadata": {},
     "output_type": "execute_result"
    }
   ],
   "source": [
    "res = es.search(index=\"metadata\", query = {\n",
    "    \"multi_match\": {\n",
    "        \"query\": \"дрей генри\",\n",
    "        \"fields\": [\"title^2\", \"artist\"],  # title имеет вес 2\n",
    "        \"fuzziness\": \"AUTO\"  \n",
    "    }\n",
    "})\n",
    "res[\"hits\"][\"hits\"]"
   ]
  },
  {
   "cell_type": "markdown",
   "metadata": {},
   "source": [
    "Можно будет уточнить год."
   ]
  },
  {
   "cell_type": "code",
   "execution_count": null,
   "metadata": {},
   "outputs": [],
   "source": [
    "res = es.search(index=\"nplus1\", query={\"range\": {\"time\": \n",
    "                                       {\"gte\":\"10:00\", \"lt\": \"12:00\"}}})"
   ]
  }
 ],
 "metadata": {
  "kernelspec": {
   "display_name": "Python 3",
   "language": "python",
   "name": "python3"
  },
  "language_info": {
   "codemirror_mode": {
    "name": "ipython",
    "version": 3
   },
   "file_extension": ".py",
   "mimetype": "text/x-python",
   "name": "python",
   "nbconvert_exporter": "python",
   "pygments_lexer": "ipython3",
   "version": "3.12.5"
  }
 },
 "nbformat": 4,
 "nbformat_minor": 2
}
